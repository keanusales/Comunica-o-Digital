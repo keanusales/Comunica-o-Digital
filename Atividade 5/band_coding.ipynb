{
 "cells": [
  {
   "cell_type": "markdown",
   "metadata": {},
   "source": [
    "Desenvolva um programa (em Phyton) que processe as seguintes sequências de bits:\n",
    "\n",
    "1000000001010011\n",
    "\n",
    "1110100101000010\n",
    "\n",
    "Códigos: NRZ, B8ZS (Bipolar with Eight Zeros Substitution), Manchester diferencial."
   ]
  },
  {
   "cell_type": "code",
   "execution_count": null,
   "metadata": {},
   "outputs": [],
   "source": [
    "from matplotlib.pyplot import figure\n",
    "from itertools import product"
   ]
  },
  {
   "cell_type": "code",
   "execution_count": null,
   "metadata": {},
   "outputs": [],
   "source": [
    "def gen_img(funcname: str, sequence: int,\n",
    "    dom: list[int], img: list[int]):\n",
    "  fig = figure(None, (12, 2), 150)\n",
    "  axe = fig.subplots()\n",
    "  axe.set_title(f\"{funcname} - {bin(sequence)}\")\n",
    "  axe.set_xlabel(\"Tempo\")\n",
    "  axe.set_ylabel(\"Voltagem\")\n",
    "  axe.step(dom, img, where = \"post\")\n",
    "  axe.grid(True)\n",
    "  fig.tight_layout(pad = 1)"
   ]
  },
  {
   "cell_type": "code",
   "execution_count": null,
   "metadata": {},
   "outputs": [],
   "source": [
    "def nrz(data: int):\n",
    "  dom = range(data.bit_length())\n",
    "  img = [10 * bool(data & (1 << i)) - 5 for i in reversed(dom)]\n",
    "  return list(dom), img"
   ]
  },
  {
   "cell_type": "code",
   "execution_count": null,
   "metadata": {},
   "outputs": [],
   "source": [
    "def b8zs(data: int):\n",
    "  dom = range(data.bit_length())\n",
    "  def b8zs_core():\n",
    "    ones, zeros = False, 0\n",
    "    for i in reversed(dom):\n",
    "      if data & (1 << i):\n",
    "        yield from (([0] * zeros) + [10 * ones - 5])\n",
    "        ones, zeros = not ones, 0\n",
    "        continue\n",
    "      zeros += 1\n",
    "      if zeros == 8:\n",
    "        if not ones:\n",
    "          yield from (0, 0, 0, 5, -5, 0, -5, 5)\n",
    "        else:\n",
    "          yield from (0, 0, 0, -5, 5, 0, 5, -5)\n",
    "        zeros = 0\n",
    "    yield from ([0] * zeros)\n",
    "  return list(dom), list(b8zs_core())"
   ]
  },
  {
   "cell_type": "code",
   "execution_count": null,
   "metadata": {},
   "outputs": [],
   "source": [
    "def dif_man(data: int):\n",
    "  order = data.bit_length()\n",
    "  dom = [e / 2 for e in range(order * 2)]\n",
    "  def difman_core():\n",
    "    prev = 0\n",
    "    for i in reversed(range(order)):\n",
    "      prev ^= bool(data & (1 << i))\n",
    "      yield 10 * (not prev) - 5\n",
    "      yield 10 * prev - 5\n",
    "  return dom, list(difman_core())"
   ]
  },
  {
   "cell_type": "code",
   "execution_count": null,
   "metadata": {},
   "outputs": [],
   "source": [
    "funcs = (nrz, b8zs, dif_man)\n",
    "seqs = (0b1000000001010011, 0b1110100101000010)\n",
    "for func, seq in product(funcs, seqs):\n",
    "  dom, img = func(seq)\n",
    "  gen_img(func.__name__, seq, dom, img)"
   ]
  }
 ],
 "metadata": {
  "kernelspec": {
   "display_name": "Python 3",
   "language": "python",
   "name": "python3"
  },
  "language_info": {
   "codemirror_mode": {
    "name": "ipython",
    "version": 3
   },
   "file_extension": ".py",
   "mimetype": "text/x-python",
   "name": "python",
   "nbconvert_exporter": "python",
   "pygments_lexer": "ipython3",
   "version": "3.13.0"
  }
 },
 "nbformat": 4,
 "nbformat_minor": 2
}
